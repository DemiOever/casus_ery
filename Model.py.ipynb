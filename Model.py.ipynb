{
 "cells": [
  {
   "metadata": {},
   "cell_type": "markdown",
   "source": [
    "- Achtergrond\n",
    "- Data (organisatie + format)\n",
    "- Model\n",
    "- Reflectie"
   ],
   "id": "26b184eebab4aeb"
  },
  {
   "metadata": {},
   "cell_type": "markdown",
   "source": [
    "# Erytropoëse en hemoglobine productie\n",
    "Erytropoëse is het proces waarbij erytrocyten worden geproduceerd vanuit stamcellen in ons lichaam. Het is de meest voorkomende cel binnen onze bloedbaan en wordt geproduceerd in ons beenmerg.\n",
    "\n",
    "Beenmerg bevindt zich in het binnenste van beenderen, zoals het bekken en borstbeen. Hierin bevinden zich hematopoëtische stamcellen, welke prolifereren en differentiëren tot verschillende soorten bloedcellen. Hieronder vallen ook de erytrocyten, ofwel de rode bloedcellen. Deze erytrocyten differentiëren vanuit erytroblasten, voorlopers van de erytrocyt zoals deze in onze bloedbaan voorkomt. Erytrocyten zijn belangrijk, ze spelen namelijk een rol in de uitwisseling van O<sup>2</sup> en CO<sup>2</sup> in ons lichaam. Ze hebben een beetje een gekke vorm, bijna de vorm van een donut, weliswaar zonder opening in de binnenkant. Dit wordt 'biconcaaf' genoemd. Een erytrocyt heeft geen kern en heeft zijn rode kleur te danken aan de hemoglobine.\n",
    "\n",
    "Een volwassen erytrocyt leeft zo'n 90 tot 120 dagen in onze bloedbaan. Erytrocyten die uit de circulatie worden gehaald, worden afgebroken in de milt en aangevuld vanuit het beenmerg met nieuwe cellen. De erytropoëse wordt geregeld door erytropoëtine, ook wel bekend als EPO. EPO wordt op zijn beurt gereguleerd door de hoeveelheid beschikbare zuurstof: bij een tekort aan zuurstof in de nieren wordt er meer EPO geproduceerd, wat het beenmerg stimuleert meer erytrocyten de bloedbaan in te laten gaan. \n",
    "\n",
    "Erytrocyten spelen een belangrijke rol in de transport van zuurstof. Hiervoor is de hemoglobine in de cel van belang. Hemoglobine bestaat uit vier subketens waarvan er twee om twee gelijk zijn aan elkaar. Elke keten bevat een heemmolecuul, op de afbeelding hieronder aangegeven als een rozig vierkantje. De heemmoleculen bevatten in het midden een ijzermolecuul (de rode bolletjes op de vierkantjes). Hieraan wordt zuurstof gebonden.\n",
    "\n",
    "![Hemoglobin](Images/Hemoglobin.png)<br>\n",
    "Bron: [https://pmgbiology.com/tag/haemoglobin/](https://pmgbiology.com/tag/haemoglobin/)\n",
    "\n",
    "Het heem uit hemoglobine wordt geproduceerd vanuit protoporphyrin IX met behulp van ijzer. Dit proces vindt plaats in de mitochondria. Wanneer heem geproduceerd is wordt het globine deel van hemoglobine geproduceerd onder invloed van heem. Compleet hemoglobine bestaat dus uit twee keer twee subketens (2 α ketens en 2 β ketens) met in elke keten een heemgroep en ijzermolecuul. \n"
   ],
   "id": "d3f8fc584e2fb05c"
  },
  {
   "metadata": {},
   "cell_type": "markdown",
   "source": [
    "## Data\n",
    "De data die in dit artikel gebruikt is voor het opzetten van een model is bijgeleverd in de Appendix, waar alle aanvullende gegevens staan (zo ook waardes voor bepaalde parameters en formules). Er zijn 3 tabellen met data, namelijk: 'Table 2 Dataset #1: Accumulated *<sup>59</sup>Fe* in Heme', 'Table 3 Dataset #2: The cells are first cultured in presence of iron (normal, nonradioactive isotope)' en 'Table 4 Dataset #3: Incorporation of <sup>3</sup>H-leucine in *β*-major globin'. \n",
    "\n",
    "In elke dataset staat de 'Exposure time (h)' met daaronder slechts één getallenreeks per tabel. De data is erg summier en is verkregen door muizen te infecteren met een virus en vervolgens erytrocyten te isoleren uit de milt. \n",
    "\n",
    "Helaas was het niet mogelijk de data direct te downloaden vanuit het artikel. Deze is overgenomen vanuit het artikel en omgezet in .csv bestanden.\n",
    "\n",
    "## Model\n",
    "Het maken van dit model was een pogint tot het reproduceren van resultaten uit een gekozen artikel. Het gekozen artikel heet '[Multi-scale Modelling of Erythropoiesis and Hemoglobin Production](https://link.springer.com/article/10.1007/s10904-016-0437-0#Tab4)' en is geschreven door A. Bouchnita, A. Rocca, E. Fanchon, M.J. Koury, J.M. Moulis & V. Volpert. Dit artikel is gekozen vanwege de interesse in hematologie en processen hier omheen. Nadat gecontroleerd was of er data aanwezig was en de benodigde formules ook benoemd werden, was dat voldoende om daadwerkelijk dit artikel te kiezen voor dit project.\n",
    "\n",
    "Allereerst werd besloten om het proces in onderstaand figuur volledig te modelleren. Dit figuur is afkomstig uit het artikel dat gekozen is en gaat over onder andere de EPO regulatie\n",
    "![Erythropoesis](Images/Erythropoesis.png)<br>\n",
    "Bron: artikel\n",
    "\n",
    "Na zorgvuldig zoeken, bleek er geen repo te bestaan van het model dat is geschreven. Al snel bleek het een te groot project te zijn om het hele proces uit te programmeren voor de duur van het project. Daarom werd gezocht naar reeds bestaande modellen. Helaas bleken ook deze niet openbaar te zijn, waardoor het roer voor het project omgegooid diende te worden. Eerst werd besloten alleen de linkerkant van het figuur mee te nemen in het model. Ook voor dit deel werd gezocht naar bestaande modellen, ook dit gaf geen resultaat. Hierop werd besloten dit zelf te gaan programmeren, echter met nog minder dan 2 weken te gaan, leek dat absoluut niet haalbaar. Na nogmaals het artikel goed doorgenomen te hebben, werd een goede oplossing gevonden: ook de hemoglobine productie stond weergegeven in formules en dit was een mooie manier om toch een model te kunnen schrijven met de beschikbare data. Er werd begonnen met het schrijven van het model."
   ],
   "id": "e8954e6823e3c02e"
  },
  {
   "metadata": {},
   "cell_type": "markdown",
   "source": "Hieronder de gebruikte imports voor het model:",
   "id": "af127350dde99402"
  },
  {
   "cell_type": "code",
   "id": "initial_id",
   "metadata": {
    "collapsed": true,
    "ExecuteTime": {
     "end_time": "2025-01-24T09:29:55.568593Z",
     "start_time": "2025-01-24T09:29:52.191542Z"
    }
   },
   "source": [
    "#imports\n",
    "import numpy as np\n",
    "from scipy.integrate import solve_ivp\n",
    "import matplotlib.pyplot as plt\n",
    "import pandas as pd"
   ],
   "outputs": [],
   "execution_count": 1
  },
  {
   "metadata": {},
   "cell_type": "markdown",
   "source": "Er waren 3 datasets, deze zijn per stuk ingelezen:",
   "id": "8d63aa66e42467ba"
  },
  {
   "metadata": {
    "ExecuteTime": {
     "end_time": "2025-01-21T09:57:14.320948Z",
     "start_time": "2025-01-21T09:57:14.297355Z"
    }
   },
   "cell_type": "code",
   "source": [
    "#import data\n",
    "fe_heme = pd.read_csv('Accumulated_fe_in_Heme.csv', sep=';')\n",
    "cells = pd.read_csv('Cultured_cells.csv', sep=';')\n",
    "globin = pd.read_csv('Leucine_in_major_globin.csv', sep=';')"
   ],
   "id": "d418840b7554e0b1",
   "outputs": [],
   "execution_count": 9
  },
  {
   "metadata": {},
   "cell_type": "markdown",
   "source": "In de formule (dFe/dt = k<sub>1</sub>Fe<sub>ex</sub> - k<sub>2</sub>Fe - k<sub>3</sub>Fe) staan meerdere parameters waarvoor vaststaande waardes beschikbaar zijn. De bekende waardes zijn hieronder ingevoerd. Sommige parameters stonden in de tekst, waar anderen in 'Table 1: Results of the search procedure' stonden.",
   "id": "4962e76b536be245"
  },
  {
   "metadata": {
    "ExecuteTime": {
     "end_time": "2025-01-24T12:52:33.541783Z",
     "start_time": "2025-01-24T12:52:33.501818Z"
    }
   },
   "cell_type": "code",
   "source": [
    "#parameters\n",
    "k_1 = (1.4*10**-3)\n",
    "k_2 = (3.75*10**-10)\n",
    "k_3 = ((7.4*10**-9)*(7.2*10**-7))\n",
    "Fe_ex = 1 #de waarde van Fe_ex is niet bekend, dit is een zelf bedacht getal"
   ],
   "id": "26cbaa5f7bf5e921",
   "outputs": [],
   "execution_count": 2
  },
  {
   "metadata": {},
   "cell_type": "markdown",
   "source": "Hieronder is de het begin van het model gemaakt, door de vergelijking om te zetten in code. ",
   "id": "af7d65cd38c17d63"
  },
  {
   "metadata": {
    "ExecuteTime": {
     "end_time": "2025-01-24T15:25:34.841984Z",
     "start_time": "2025-01-24T15:25:34.825405Z"
    }
   },
   "cell_type": "code",
   "source": [
    "#model/vergelijking\n",
    "def model(t, y):\n",
    "    Fe = y[0]\n",
    "    dFe_dt = k_1 * Fe_ex - k_2 * Fe - k_3 * Fe\n",
    "    return [dFe_dt]\n",
    "\n",
    "Fe0 = [0] #Beginwaarde Fe\n",
    "t_span = (0, 50) #tijdspanne\n",
    "t_eval = np.linspace(t_span[0], t_span[1], 500) # aantal tijdstappen\n",
    "\n",
    "solution = solve_ivp(model, t_span, Fe0, t_eval=t_eval)"
   ],
   "id": "b20b23d4ebca6e61",
   "outputs": [],
   "execution_count": 11
  },
  {
   "metadata": {},
   "cell_type": "markdown",
   "source": "Dit wordt vervolgens uitgezet in een grafiek:",
   "id": "492550d0fbd4d95c"
  },
  {
   "metadata": {
    "ExecuteTime": {
     "end_time": "2025-01-24T15:23:50.368930Z",
     "start_time": "2025-01-24T15:23:50.206404Z"
    }
   },
   "cell_type": "code",
   "source": [
    "plt.figure(figsize=(8, 5))\n",
    "plt.plot(solution.t, solution.y[0], label='Fe(t)', color='blue')\n",
    "plt.title('dFe/dt uitgezet')\n",
    "plt.xlabel('Tijd (t)')\n",
    "plt.ylabel('Fe')\n",
    "plt.legend()\n",
    "plt.grid()\n",
    "plt.show()"
   ],
   "id": "fe14341f5a05cc78",
   "outputs": [
    {
     "data": {
      "text/plain": [
       "<Figure size 800x500 with 1 Axes>"
      ],
      "image/png": "[encoded data removed]"
     },
     "metadata": {},
     "output_type": "display_data"
    }
   ],
   "execution_count": 10
  },
  {
   "metadata": {},
   "cell_type": "markdown",
   "source": "Deze code is niet compleet en nog niet volledig omgezet, omdat er vervolgens tegen andere dingen werd aangelopen.",
   "id": "2cfc53a634d78999"
  },
  {
   "metadata": {},
   "cell_type": "markdown",
   "source": [
    "## Reflectie\n",
    "Zoals te lezen is, heeft het proces heel wat haken en ogen gekend. Het begin liep eigenlijk prima, het kiezen van het artikel had niet veel om handen \n"
   ],
   "id": "91b030ccd3c0ed57"
  }
 ],
 "metadata": {
  "kernelspec": {
   "display_name": "Python 3",
   "language": "python",
   "name": "python3"
  },
  "language_info": {
   "codemirror_mode": {
    "name": "ipython",
    "version": 2
   },
   "file_extension": ".py",
   "mimetype": "text/x-python",
   "name": "python",
   "nbconvert_exporter": "python",
   "pygments_lexer": "ipython2",
   "version": "2.7.6"
  }
 },
 "nbformat": 4,
 "nbformat_minor": 5
}
